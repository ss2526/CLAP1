{
  "nbformat": 4,
  "nbformat_minor": 0,
  "metadata": {
    "colab": {
      "provenance": [],
      "authorship_tag": "ABX9TyP50RjCN+FHcgMibemLc/6Y",
      "include_colab_link": true
    },
    "kernelspec": {
      "name": "python3",
      "display_name": "Python 3"
    },
    "language_info": {
      "name": "python"
    }
  },
  "cells": [
    {
      "cell_type": "markdown",
      "metadata": {
        "id": "view-in-github",
        "colab_type": "text"
      },
      "source": [
        "<a href=\"https://colab.research.google.com/github/ss2526/CLAP1/blob/main/practiceproject.ipynb\" target=\"_parent\"><img src=\"https://colab.research.google.com/assets/colab-badge.svg\" alt=\"Open In Colab\"/></a>"
      ]
    },
    {
      "cell_type": "code",
      "execution_count": null,
      "metadata": {
        "colab": {
          "base_uri": "https://localhost:8080/"
        },
        "id": "6NFNtQ2h8z-1",
        "outputId": "496bf1f6-beac-485d-9675-59095ea57232"
      },
      "outputs": [
        {
          "output_type": "stream",
          "name": "stdout",
          "text": [
            "hello\n"
          ]
        }
      ],
      "source": [
        "print(\"hello\")"
      ]
    },
    {
      "cell_type": "code",
      "source": [
        "import numpy as np\n",
        "import pandas as pd\n",
        "import matplotlib.pyplot as plt\n",
        "import seaborn as sns\n",
        "%matplotlib inline"
      ],
      "metadata": {
        "id": "T0ICeRFM_bHx"
      },
      "execution_count": null,
      "outputs": []
    },
    {
      "cell_type": "markdown",
      "source": [],
      "metadata": {
        "id": "LNrLE-KGJrDQ"
      }
    },
    {
      "cell_type": "code",
      "source": [
        "df=pd.read_csv(\"/content/heart.csv\")"
      ],
      "metadata": {
        "id": "VN6tnJswsmkK"
      },
      "execution_count": null,
      "outputs": []
    },
    {
      "cell_type": "code",
      "source": [
        "df.shape"
      ],
      "metadata": {
        "colab": {
          "base_uri": "https://localhost:8080/"
        },
        "id": "sZ7gh3vUsuEu",
        "outputId": "7ea16adc-7b82-4b34-e70b-d4c42dc013bd"
      },
      "execution_count": null,
      "outputs": [
        {
          "output_type": "execute_result",
          "data": {
            "text/plain": [
              "(303, 14)"
            ]
          },
          "metadata": {},
          "execution_count": 4
        }
      ]
    },
    {
      "cell_type": "markdown",
      "source": [
        "to find no.of rows and columns"
      ],
      "metadata": {
        "id": "Puetctujsx8H"
      }
    },
    {
      "cell_type": "code",
      "source": [
        "target_count = df.target.value_counts()\n",
        "print(target_count)"
      ],
      "metadata": {
        "colab": {
          "base_uri": "https://localhost:8080/"
        },
        "id": "U5KrpfV5s0HB",
        "outputId": "77b9b2cd-8d99-4175-8a86-06051edaaa12"
      },
      "execution_count": null,
      "outputs": [
        {
          "output_type": "stream",
          "name": "stdout",
          "text": [
            "target\n",
            "1    165\n",
            "0    138\n",
            "Name: count, dtype: int64\n"
          ]
        }
      ]
    },
    {
      "cell_type": "code",
      "source": [
        "y=df[\"target\"]\n",
        "sns.countplot(y)\n"
      ],
      "metadata": {
        "colab": {
          "base_uri": "https://localhost:8080/",
          "height": 447
        },
        "id": "B3u92eu-s7ew",
        "outputId": "08fc5dd5-3eb4-4eb4-cde2-49206a5c5505"
      },
      "execution_count": null,
      "outputs": [
        {
          "output_type": "execute_result",
          "data": {
            "text/plain": [
              "<Axes: ylabel='count'>"
            ]
          },
          "metadata": {},
          "execution_count": 6
        },
        {
          "output_type": "display_data",
          "data": {
            "text/plain": [
              "<Figure size 640x480 with 1 Axes>"
            ],
            "image/png": "[encoded data removed]"
          },
          "metadata": {}
        }
      ]
    },
    {
      "cell_type": "code",
      "source": [
        "df[\"sex\"].unique()\n"
      ],
      "metadata": {
        "colab": {
          "base_uri": "https://localhost:8080/"
        },
        "id": "-rr4oMJis-p2",
        "outputId": "1d6bd7ef-59a9-4a74-d811-3323529eccf2"
      },
      "execution_count": null,
      "outputs": [
        {
          "output_type": "execute_result",
          "data": {
            "text/plain": [
              "array([1, 0])"
            ]
          },
          "metadata": {},
          "execution_count": 7
        }
      ]
    },
    {
      "cell_type": "code",
      "source": [
        "import seaborn as sns\n",
        "\n",
        "sns.barplot(x=\"sex\", y=\"target\", data=df)"
      ],
      "metadata": {
        "colab": {
          "base_uri": "https://localhost:8080/",
          "height": 466
        },
        "id": "Exifn5YktADA",
        "outputId": "1e261229-468e-4f54-e242-58ce9f5c72ca"
      },
      "execution_count": null,
      "outputs": [
        {
          "output_type": "execute_result",
          "data": {
            "text/plain": [
              "<Axes: xlabel='sex', ylabel='target'>"
            ]
          },
          "metadata": {},
          "execution_count": 14
        },
        {
          "output_type": "display_data",
          "data": {
            "text/plain": [
              "<Figure size 640x480 with 1 Axes>"
            ],
            "image/png": "[encoded data removed]"
          },
          "metadata": {}
        }
      ]
    },
    {
      "cell_type": "code",
      "source": [
        "\n",
        "df[\"cp\"].unique()"
      ],
      "metadata": {
        "colab": {
          "base_uri": "https://localhost:8080/"
        },
        "id": "ubi75dHgtTAD",
        "outputId": "c8f9c1ac-88ea-4bbe-df5a-1a7a59c506f2"
      },
      "execution_count": null,
      "outputs": [
        {
          "output_type": "execute_result",
          "data": {
            "text/plain": [
              "array([3, 2, 1, 0])"
            ]
          },
          "metadata": {},
          "execution_count": 11
        }
      ]
    },
    {
      "cell_type": "code",
      "source": [
        "import seaborn as sns\n",
        "\n",
        "sns.barplot(x=\"cp\", y=\"target\", data=df) # Use the 'data' parameter to specify the DataFrame and 'x' and 'y' to specify the columns for the plot."
      ],
      "metadata": {
        "colab": {
          "base_uri": "https://localhost:8080/",
          "height": 466
        },
        "id": "1jiSH9H3tdaT",
        "outputId": "2c731fbd-7a98-43be-a785-b178e4781953"
      },
      "execution_count": null,
      "outputs": [
        {
          "output_type": "execute_result",
          "data": {
            "text/plain": [
              "<Axes: xlabel='cp', ylabel='target'>"
            ]
          },
          "metadata": {},
          "execution_count": 15
        },
        {
          "output_type": "display_data",
          "data": {
            "text/plain": [
              "<Figure size 640x480 with 1 Axes>"
            ],
            "image/png": "[encoded data removed]"
          },
          "metadata": {}
        }
      ]
    },
    {
      "cell_type": "code",
      "source": [
        "\n",
        "df[\"fbs\"].unique()"
      ],
      "metadata": {
        "colab": {
          "base_uri": "https://localhost:8080/"
        },
        "id": "ckywAb9vtmJs",
        "outputId": "21e80f37-7940-48f3-90b9-9a318a2969e7"
      },
      "execution_count": null,
      "outputs": [
        {
          "output_type": "execute_result",
          "data": {
            "text/plain": [
              "array([1, 0])"
            ]
          },
          "metadata": {},
          "execution_count": 16
        }
      ]
    },
    {
      "cell_type": "code",
      "source": [
        "df[\"restecg\"].unique()"
      ],
      "metadata": {
        "colab": {
          "base_uri": "https://localhost:8080/"
        },
        "id": "115aq55-twph",
        "outputId": "5d7839bf-5948-4a30-dd76-8eef4dfb138f"
      },
      "execution_count": null,
      "outputs": [
        {
          "output_type": "execute_result",
          "data": {
            "text/plain": [
              "array([0, 1, 2])"
            ]
          },
          "metadata": {},
          "execution_count": 17
        }
      ]
    },
    {
      "cell_type": "code",
      "source": [
        "import seaborn as sns\n",
        "\n",
        "sns.barplot(x=\"restecg\", y=\"target\", data=df) # Use named arguments to specify the x and y columns for the plot"
      ],
      "metadata": {
        "colab": {
          "base_uri": "https://localhost:8080/",
          "height": 466
        },
        "id": "SEo_yG7dt0gg",
        "outputId": "c1afcf35-2a43-49f2-a47e-76f20c9252d2"
      },
      "execution_count": null,
      "outputs": [
        {
          "output_type": "execute_result",
          "data": {
            "text/plain": [
              "<Axes: xlabel='restecg', ylabel='target'>"
            ]
          },
          "metadata": {},
          "execution_count": 20
        },
        {
          "output_type": "display_data",
          "data": {
            "text/plain": [
              "<Figure size 640x480 with 1 Axes>"
            ],
            "image/png": "[encoded data removed]"
          },
          "metadata": {}
        }
      ]
    },
    {
      "cell_type": "code",
      "source": [
        "df[\"exang\"].unique()"
      ],
      "metadata": {
        "colab": {
          "base_uri": "https://localhost:8080/"
        },
        "id": "1dbuIOUEt4N-",
        "outputId": "18142a42-c684-4d76-dfc5-6ad32eaf8fd1"
      },
      "execution_count": null,
      "outputs": [
        {
          "output_type": "execute_result",
          "data": {
            "text/plain": [
              "array([0, 1])"
            ]
          },
          "metadata": {},
          "execution_count": 19
        }
      ]
    },
    {
      "cell_type": "code",
      "source": [
        "df[\"slope\"].unique()"
      ],
      "metadata": {
        "colab": {
          "base_uri": "https://localhost:8080/"
        },
        "id": "_kkI7iTUuITB",
        "outputId": "9693206e-7f5e-4157-e965-c1cf7a9b6601"
      },
      "execution_count": null,
      "outputs": [
        {
          "output_type": "execute_result",
          "data": {
            "text/plain": [
              "array([0, 2, 1])"
            ]
          },
          "metadata": {},
          "execution_count": 21
        }
      ]
    },
    {
      "cell_type": "code",
      "source": [
        "import seaborn as sns\n",
        "\n",
        "sns.barplot(x=\"slope\", y=\"target\", data=df) # Use named arguments to specify the x and y columns for the plot"
      ],
      "metadata": {
        "colab": {
          "base_uri": "https://localhost:8080/",
          "height": 466
        },
        "id": "o0fe_g6QuKk_",
        "outputId": "c36ae6cb-3802-4425-cae4-34ab6d46c38c"
      },
      "execution_count": null,
      "outputs": [
        {
          "output_type": "execute_result",
          "data": {
            "text/plain": [
              "<Axes: xlabel='slope', ylabel='target'>"
            ]
          },
          "metadata": {},
          "execution_count": 23
        },
        {
          "output_type": "display_data",
          "data": {
            "text/plain": [
              "<Figure size 640x480 with 1 Axes>"
            ],
            "image/png": "[encoded data removed]"
          },
          "metadata": {}
        }
      ]
    },
    {
      "cell_type": "code",
      "source": [
        "df[\"ca\"].unique()"
      ],
      "metadata": {
        "colab": {
          "base_uri": "https://localhost:8080/"
        },
        "id": "ox0lAxRGuc-G",
        "outputId": "bb26b471-0bde-40c7-d958-2edfd115e15a"
      },
      "execution_count": null,
      "outputs": [
        {
          "output_type": "execute_result",
          "data": {
            "text/plain": [
              "array([0, 2, 1, 3, 4])"
            ]
          },
          "metadata": {},
          "execution_count": 24
        }
      ]
    },
    {
      "cell_type": "code",
      "source": [
        "\n",
        "sns.countplot(df[\"ca\"])"
      ],
      "metadata": {
        "colab": {
          "base_uri": "https://localhost:8080/",
          "height": 447
        },
        "id": "4QBMw5RPulUh",
        "outputId": "dc56991b-557d-497d-bef7-2bd9faea9a8e"
      },
      "execution_count": null,
      "outputs": [
        {
          "output_type": "execute_result",
          "data": {
            "text/plain": [
              "<Axes: ylabel='count'>"
            ]
          },
          "metadata": {},
          "execution_count": 25
        },
        {
          "output_type": "display_data",
          "data": {
            "text/plain": [
              "<Figure size 640x480 with 1 Axes>"
            ],
            "image/png": "[encoded data removed]"
          },
          "metadata": {}
        }
      ]
    },
    {
      "cell_type": "markdown",
      "source": [
        "Train and Test Split"
      ],
      "metadata": {
        "id": "8rc1kixLusMA"
      }
    },
    {
      "cell_type": "code",
      "source": [
        "from sklearn.model_selection import train_test_split #import train and test split using sklearn.\n",
        "\n",
        "features = df.drop(\"target\",axis=1) #From data frame, we are droping target attribute and storing data frame in features.\n",
        "label = df[\"target\"] #we are storing target attribute in label.\n",
        "\n",
        "X_train,X_test,Y_train,Y_test = train_test_split(features,label,test_size=0.20,random_state=0)"
      ],
      "metadata": {
        "id": "-ya0pOi6upCw"
      },
      "execution_count": null,
      "outputs": []
    },
    {
      "cell_type": "code",
      "source": [
        "X_train.shape"
      ],
      "metadata": {
        "colab": {
          "base_uri": "https://localhost:8080/"
        },
        "id": "CcPUJzeau01L",
        "outputId": "aa85fb32-8ea1-40a6-baa9-357db8c217e3"
      },
      "execution_count": null,
      "outputs": [
        {
          "output_type": "execute_result",
          "data": {
            "text/plain": [
              "(242, 13)"
            ]
          },
          "metadata": {},
          "execution_count": 27
        }
      ]
    },
    {
      "cell_type": "code",
      "source": [
        "X_test.shape"
      ],
      "metadata": {
        "colab": {
          "base_uri": "https://localhost:8080/"
        },
        "id": "0U8Vi5DIu09L",
        "outputId": "47564d9c-e871-4f26-d3f7-a6712e67cd1e"
      },
      "execution_count": null,
      "outputs": [
        {
          "output_type": "execute_result",
          "data": {
            "text/plain": [
              "(61, 13)"
            ]
          },
          "metadata": {},
          "execution_count": 28
        }
      ]
    },
    {
      "cell_type": "code",
      "source": [
        "Y_train.shape"
      ],
      "metadata": {
        "colab": {
          "base_uri": "https://localhost:8080/"
        },
        "id": "irNxG3d1u9As",
        "outputId": "54677bec-52c8-46a7-bb52-abf458c1bbcd"
      },
      "execution_count": null,
      "outputs": [
        {
          "output_type": "execute_result",
          "data": {
            "text/plain": [
              "(242,)"
            ]
          },
          "metadata": {},
          "execution_count": 29
        }
      ]
    },
    {
      "cell_type": "code",
      "source": [
        "\n",
        "Y_test.shape"
      ],
      "metadata": {
        "colab": {
          "base_uri": "https://localhost:8080/"
        },
        "id": "b-dMC5TzvBya",
        "outputId": "253436e9-12af-4688-f2ee-9f5c04156f22"
      },
      "execution_count": null,
      "outputs": [
        {
          "output_type": "execute_result",
          "data": {
            "text/plain": [
              "(61,)"
            ]
          },
          "metadata": {},
          "execution_count": 30
        }
      ]
    },
    {
      "cell_type": "markdown",
      "source": [
        "Machine Learning Models"
      ],
      "metadata": {
        "id": "ZgXJDiDovHHR"
      }
    },
    {
      "cell_type": "code",
      "source": [
        "\n",
        "from sklearn.metrics import accuracy_score\n",
        "from sklearn.metrics import f1_score\n",
        "from sklearn.metrics import recall_score\n",
        "from sklearn.metrics import precision_score"
      ],
      "metadata": {
        "id": "zClQaW3VvIOV"
      },
      "execution_count": null,
      "outputs": []
    },
    {
      "cell_type": "markdown",
      "source": [
        "Logistic Regression"
      ],
      "metadata": {
        "id": "YFkqs-eVvP0n"
      }
    },
    {
      "cell_type": "code",
      "source": [
        "from sklearn.linear_model import LogisticRegression\n",
        "\n",
        "lr = LogisticRegression()\n",
        "\n",
        "lr.fit(X_train,Y_train)\n",
        "\n",
        "Y_pred_lr = lr.predict(X_test)"
      ],
      "metadata": {
        "colab": {
          "base_uri": "https://localhost:8080/"
        },
        "id": "FwCo69kQvSS_",
        "outputId": "aca22100-53c2-4b9d-892c-737953c71d70"
      },
      "execution_count": null,
      "outputs": [
        {
          "output_type": "stream",
          "name": "stderr",
          "text": [
            "/usr/local/lib/python3.10/dist-packages/sklearn/linear_model/_logistic.py:458: ConvergenceWarning: lbfgs failed to converge (status=1):\n",
            "STOP: TOTAL NO. of ITERATIONS REACHED LIMIT.\n",
            "\n",
            "Increase the number of iterations (max_iter) or scale the data as shown in:\n",
            "    https://scikit-learn.org/stable/modules/preprocessing.html\n",
            "Please also refer to the documentation for alternative solver options:\n",
            "    https://scikit-learn.org/stable/modules/linear_model.html#logistic-regression\n",
            "  n_iter_i = _check_optimize_result(\n"
          ]
        }
      ]
    },
    {
      "cell_type": "code",
      "source": [
        "Y_pred_lr.shape"
      ],
      "metadata": {
        "colab": {
          "base_uri": "https://localhost:8080/"
        },
        "id": "Bi5Bj2C0vVaF",
        "outputId": "6c9c284a-51ed-42df-bc21-03e9e70e902d"
      },
      "execution_count": null,
      "outputs": [
        {
          "output_type": "execute_result",
          "data": {
            "text/plain": [
              "(61,)"
            ]
          },
          "metadata": {},
          "execution_count": 33
        }
      ]
    },
    {
      "cell_type": "code",
      "source": [
        "acc_score_lr = round(accuracy_score(Y_pred_lr,Y_test)*100,2)\n",
        "\n",
        "print(\"The Accuracy Score achieved using Logistic Regression is: \"+str(acc_score_lr)+\" %\")"
      ],
      "metadata": {
        "colab": {
          "base_uri": "https://localhost:8080/"
        },
        "id": "N5Jm1EyHvZK_",
        "outputId": "1bb0f8eb-e813-442c-e3e0-4f5f753dbe36"
      },
      "execution_count": null,
      "outputs": [
        {
          "output_type": "stream",
          "name": "stdout",
          "text": [
            "The Accuracy Score achieved using Logistic Regression is: 85.25 %\n"
          ]
        }
      ]
    },
    {
      "cell_type": "code",
      "source": [
        "pre_score_lr = round(precision_score(Y_pred_lr,Y_test)*100,2)\n",
        "\n",
        "print(\"The Precision Score achieved using Logistic Regression is: \"+str(pre_score_lr)+\" %\")"
      ],
      "metadata": {
        "colab": {
          "base_uri": "https://localhost:8080/"
        },
        "id": "DWm_LVZBvdVN",
        "outputId": "ca6024c8-f7e5-420b-8f5b-bf3c50e8b8f9"
      },
      "execution_count": null,
      "outputs": [
        {
          "output_type": "stream",
          "name": "stdout",
          "text": [
            "The Precision Score achieved using Logistic Regression is: 88.24 %\n"
          ]
        }
      ]
    },
    {
      "cell_type": "code",
      "source": [
        "\n",
        "rec_score_lr = round(recall_score(Y_pred_lr,Y_test)*100,2)\n",
        "\n",
        "print(\"The Recall Score achieved using Logistic Regression is: \"+str(rec_score_lr)+\" %\")"
      ],
      "metadata": {
        "colab": {
          "base_uri": "https://localhost:8080/"
        },
        "id": "NVPclUlxvpgl",
        "outputId": "55439f7d-4258-4e93-e762-e553197dbee4"
      },
      "execution_count": null,
      "outputs": [
        {
          "output_type": "stream",
          "name": "stdout",
          "text": [
            "The Recall Score achieved using Logistic Regression is: 85.71 %\n"
          ]
        }
      ]
    },
    {
      "cell_type": "code",
      "source": [
        "\n",
        "f1_score_lr = round(f1_score(Y_pred_lr,Y_test)*100,2)\n",
        "\n",
        "print(\"The F1-Score achieved using Logistic Regression is: \"+str(f1_score_lr)+\" %\")"
      ],
      "metadata": {
        "colab": {
          "base_uri": "https://localhost:8080/"
        },
        "id": "kfnaMFHFvq47",
        "outputId": "97767a3c-642a-4d04-a516-cd9bfa960c17"
      },
      "execution_count": null,
      "outputs": [
        {
          "output_type": "stream",
          "name": "stdout",
          "text": [
            "The F1-Score achieved using Logistic Regression is: 86.96 %\n"
          ]
        }
      ]
    },
    {
      "cell_type": "markdown",
      "source": [
        "Naive Bayes"
      ],
      "metadata": {
        "id": "NUFm3kWqw3Vi"
      }
    },
    {
      "cell_type": "code",
      "source": [
        "from sklearn.naive_bayes import GaussianNB\n",
        "\n",
        "nb = GaussianNB()\n",
        "\n",
        "nb.fit(X_train,Y_train)\n",
        "\n",
        "Y_pred_nb = nb.predict(X_test)"
      ],
      "metadata": {
        "id": "hHwa-Pxfw4oR"
      },
      "execution_count": null,
      "outputs": []
    },
    {
      "cell_type": "code",
      "source": [
        "\n",
        "Y_pred_nb.shape"
      ],
      "metadata": {
        "colab": {
          "base_uri": "https://localhost:8080/"
        },
        "id": "TKuN8N5axjsf",
        "outputId": "a1a4a374-e554-42c9-9e30-68a173033d58"
      },
      "execution_count": null,
      "outputs": [
        {
          "output_type": "execute_result",
          "data": {
            "text/plain": [
              "(61,)"
            ]
          },
          "metadata": {},
          "execution_count": 40
        }
      ]
    },
    {
      "cell_type": "code",
      "source": [
        "\n",
        "acc_score_nb = round(accuracy_score(Y_pred_nb,Y_test)*100,2)\n",
        "\n",
        "print(\"The Accuracy Score achieved using Naive Bayes is: \"+str(acc_score_nb)+\" %\")"
      ],
      "metadata": {
        "colab": {
          "base_uri": "https://localhost:8080/"
        },
        "id": "ng7ygeazxqrB",
        "outputId": "3e7b698d-26ee-4e9b-f852-2af3ed6bd840"
      },
      "execution_count": null,
      "outputs": [
        {
          "output_type": "stream",
          "name": "stdout",
          "text": [
            "The Accuracy Score achieved using Naive Bayes is: 85.25 %\n"
          ]
        }
      ]
    },
    {
      "cell_type": "code",
      "source": [
        "\n",
        "pre_score_nb = round(precision_score(Y_pred_nb,Y_test)*100,2)\n",
        "\n",
        "print(\"The Precision Score achieved using Naive Bayes is: \"+str(pre_score_nb)+\" %\")"
      ],
      "metadata": {
        "colab": {
          "base_uri": "https://localhost:8080/"
        },
        "id": "arfrQfFx38my",
        "outputId": "11e62086-f2c9-4cdf-cef1-a79ecfea5d1f"
      },
      "execution_count": null,
      "outputs": [
        {
          "output_type": "stream",
          "name": "stdout",
          "text": [
            "The Precision Score achieved using Naive Bayes is: 91.18 %\n"
          ]
        }
      ]
    },
    {
      "cell_type": "code",
      "source": [
        "rec_score_nb = round(recall_score(Y_pred_nb,Y_test)*100,2)\n",
        "\n",
        "print(\"The Recall Score achieved using Naive Bayes is: \"+str(rec_score_nb)+\" %\")"
      ],
      "metadata": {
        "colab": {
          "base_uri": "https://localhost:8080/"
        },
        "id": "4557WbP43_Zy",
        "outputId": "4c4278cc-0f83-4017-8b7b-9d62b6b67d41"
      },
      "execution_count": null,
      "outputs": [
        {
          "output_type": "stream",
          "name": "stdout",
          "text": [
            "The Recall Score achieved using Naive Bayes is: 83.78 %\n"
          ]
        }
      ]
    },
    {
      "cell_type": "code",
      "source": [
        "f1_score_nb = round(f1_score(Y_pred_nb,Y_test)*100,2)\n",
        "\n",
        "print(\"The F1-Score achieved using Naive Bayes is: \"+str(f1_score_nb)+\" %\")"
      ],
      "metadata": {
        "colab": {
          "base_uri": "https://localhost:8080/"
        },
        "id": "vsZQZUsR4Cey",
        "outputId": "ae529f56-c4d5-4c7e-8958-4bc2a2e3021e"
      },
      "execution_count": null,
      "outputs": [
        {
          "output_type": "stream",
          "name": "stdout",
          "text": [
            "The F1-Score achieved using Naive Bayes is: 87.32 %\n"
          ]
        }
      ]
    },
    {
      "cell_type": "markdown",
      "source": [
        "SVM:Support Vector Machines (SVMs)"
      ],
      "metadata": {
        "id": "TgwPehwI4F0q"
      }
    },
    {
      "cell_type": "code",
      "source": [
        "from sklearn import svm\n",
        "\n",
        "sv = svm.SVC(kernel='linear')\n",
        "\n",
        "sv.fit(X_train, Y_train)\n",
        "\n",
        "Y_pred_svm = sv.predict(X_test)"
      ],
      "metadata": {
        "id": "bXkL1rqr4I0p"
      },
      "execution_count": null,
      "outputs": []
    },
    {
      "cell_type": "code",
      "source": [
        "Y_pred_svm.shape\n"
      ],
      "metadata": {
        "colab": {
          "base_uri": "https://localhost:8080/"
        },
        "id": "-Q88VvUk4Lgy",
        "outputId": "d37a8a28-3f03-4be4-902c-7895e39278c8"
      },
      "execution_count": null,
      "outputs": [
        {
          "output_type": "execute_result",
          "data": {
            "text/plain": [
              "(61,)"
            ]
          },
          "metadata": {},
          "execution_count": 45
        }
      ]
    },
    {
      "cell_type": "code",
      "source": [
        "acc_score_svm = round(accuracy_score(Y_pred_svm,Y_test)*100,2)\n",
        "\n",
        "print(\"The Accuracy Score achieved using Linear SVM is: \"+str(acc_score_svm)+\" %\")"
      ],
      "metadata": {
        "colab": {
          "base_uri": "https://localhost:8080/"
        },
        "id": "mdG9SvMD4OjN",
        "outputId": "c2d5d18f-f91f-4ab2-8987-a0ee47cac18b"
      },
      "execution_count": null,
      "outputs": [
        {
          "output_type": "stream",
          "name": "stdout",
          "text": [
            "The Accuracy Score achieved using Linear SVM is: 81.97 %\n"
          ]
        }
      ]
    },
    {
      "cell_type": "code",
      "source": [
        "pre_score_svm = round(precision_score(Y_pred_svm,Y_test)*100,2)\n",
        "\n",
        "print(\"The Precison Score achieved using Linear SVM is: \"+str(pre_score_svm)+\" %\")\n"
      ],
      "metadata": {
        "colab": {
          "base_uri": "https://localhost:8080/"
        },
        "id": "Srax_Bj24RkO",
        "outputId": "5ca949fa-4857-4a87-a646-ec35f369679f"
      },
      "execution_count": null,
      "outputs": [
        {
          "output_type": "stream",
          "name": "stdout",
          "text": [
            "The Precison Score achieved using Linear SVM is: 88.24 %\n"
          ]
        }
      ]
    },
    {
      "cell_type": "code",
      "source": [
        "rec_score_svm = round(recall_score(Y_pred_svm,Y_test)*100,2)\n",
        "\n",
        "print(\"The Recall Score achieved using Linear SVM is: \"+str(rec_score_svm)+\" %\")"
      ],
      "metadata": {
        "colab": {
          "base_uri": "https://localhost:8080/"
        },
        "id": "QlwES0XE4UO6",
        "outputId": "42be4b24-8707-410e-9b7a-479e02a2f0e8"
      },
      "execution_count": null,
      "outputs": [
        {
          "output_type": "stream",
          "name": "stdout",
          "text": [
            "The Recall Score achieved using Linear SVM is: 81.08 %\n"
          ]
        }
      ]
    },
    {
      "cell_type": "code",
      "source": [
        "\n",
        "f1_score_svm = round(f1_score(Y_pred_svm,Y_test)*100,2)\n",
        "\n",
        "print(\"The F1-Score achieved using Linear SVM is: \"+str(f1_score_svm)+\" %\")"
      ],
      "metadata": {
        "colab": {
          "base_uri": "https://localhost:8080/"
        },
        "id": "nTBva6sE4XeH",
        "outputId": "38147e4d-7b22-4898-cd7d-48f3c90827a2"
      },
      "execution_count": null,
      "outputs": [
        {
          "output_type": "stream",
          "name": "stdout",
          "text": [
            "The F1-Score achieved using Linear SVM is: 84.51 %\n"
          ]
        }
      ]
    },
    {
      "cell_type": "markdown",
      "source": [
        "K Nearest Neighbours:K Nearest Neighbor (KNN)"
      ],
      "metadata": {
        "id": "cx7s2a704a3V"
      }
    },
    {
      "cell_type": "code",
      "source": [
        "\n",
        "from sklearn.neighbors import KNeighborsClassifier\n",
        "\n",
        "knn = KNeighborsClassifier(n_neighbors=7)\n",
        "knn.fit(X_train,Y_train)\n",
        "Y_pred_knn=knn.predict(X_test)"
      ],
      "metadata": {
        "id": "oxOTNgBF4dbn"
      },
      "execution_count": null,
      "outputs": []
    },
    {
      "cell_type": "code",
      "source": [
        "Y_pred_knn.shape"
      ],
      "metadata": {
        "colab": {
          "base_uri": "https://localhost:8080/"
        },
        "id": "MrtXmVOI4gMI",
        "outputId": "e5c48092-3338-49c0-f25c-376348a8c5bb"
      },
      "execution_count": null,
      "outputs": [
        {
          "output_type": "execute_result",
          "data": {
            "text/plain": [
              "(61,)"
            ]
          },
          "metadata": {},
          "execution_count": 51
        }
      ]
    },
    {
      "cell_type": "code",
      "source": [
        "acc_score_knn = round(accuracy_score(Y_pred_knn,Y_test)*100,2)\n",
        "\n",
        "print(\"The Accuracy Score achieved using KNN is: \"+str(acc_score_knn)+\" %\")"
      ],
      "metadata": {
        "colab": {
          "base_uri": "https://localhost:8080/"
        },
        "id": "cQFy1KF44i4x",
        "outputId": "e57068b6-4664-497d-d5b3-8bf69fdc81dd"
      },
      "execution_count": null,
      "outputs": [
        {
          "output_type": "stream",
          "name": "stdout",
          "text": [
            "The Accuracy Score achieved using KNN is: 67.21 %\n"
          ]
        }
      ]
    },
    {
      "cell_type": "code",
      "source": [
        "pre_score_knn = round(precision_score(Y_pred_knn,Y_test)*100,2)\n",
        "\n",
        "print(\"The Precision Score achieved using KNN is: \"+str(pre_score_knn)+\" %\")"
      ],
      "metadata": {
        "colab": {
          "base_uri": "https://localhost:8080/"
        },
        "id": "WKSBDiqa4mYV",
        "outputId": "e108e400-766a-456b-b676-5988bd36eb85"
      },
      "execution_count": null,
      "outputs": [
        {
          "output_type": "stream",
          "name": "stdout",
          "text": [
            "The Precision Score achieved using KNN is: 67.65 %\n"
          ]
        }
      ]
    },
    {
      "cell_type": "code",
      "source": [
        "\n",
        "rec_score_knn = round(recall_score(Y_pred_knn,Y_test)*100,2)\n",
        "\n",
        "print(\"The Recall Score achieved using KNN is: \"+str(rec_score_knn)+\" %\")\n"
      ],
      "metadata": {
        "colab": {
          "base_uri": "https://localhost:8080/"
        },
        "id": "XTm6XV3t4pUW",
        "outputId": "1920400a-972e-47ca-b015-bc54628b2b6a"
      },
      "execution_count": null,
      "outputs": [
        {
          "output_type": "stream",
          "name": "stdout",
          "text": [
            "The Recall Score achieved using KNN is: 71.88 %\n"
          ]
        }
      ]
    },
    {
      "cell_type": "code",
      "source": [
        "f1_score_knn = round(f1_score(Y_pred_knn,Y_test)*100,2)\n",
        "\n",
        "print(\"The F1-Score achieved using KNN is: \"+str(f1_score_knn)+\" %\")"
      ],
      "metadata": {
        "colab": {
          "base_uri": "https://localhost:8080/"
        },
        "id": "EmzYy4bR4saX",
        "outputId": "9449fd1c-8112-40ed-82a7-b84cbc14e19a"
      },
      "execution_count": null,
      "outputs": [
        {
          "output_type": "stream",
          "name": "stdout",
          "text": [
            "The F1-Score achieved using KNN is: 69.7 %\n"
          ]
        }
      ]
    },
    {
      "cell_type": "markdown",
      "source": [
        "Decision Tree:Decision Tree"
      ],
      "metadata": {
        "id": "OOFig2ES4vsI"
      }
    },
    {
      "cell_type": "code",
      "source": [
        "from sklearn.tree import DecisionTreeClassifier\n",
        "\n",
        "max_accuracy = 0\n",
        "\n",
        "\n",
        "for x in range(200):\n",
        "    dt = DecisionTreeClassifier(random_state=x)\n",
        "    dt.fit(X_train,Y_train)\n",
        "    Y_pred_dt = dt.predict(X_test)\n",
        "    current_accuracy = round(accuracy_score(Y_pred_dt,Y_test)*100,2)\n",
        "    if(current_accuracy>max_accuracy):\n",
        "        max_accuracy = current_accuracy\n",
        "        best_x = x\n",
        "\n",
        "#print(max_accuracy)\n",
        "#print(best_x)\n",
        "\n",
        "\n",
        "dt = DecisionTreeClassifier(random_state=best_x)\n",
        "dt.fit(X_train,Y_train)\n",
        "Y_pred_dt = dt.predict(X_test)\n"
      ],
      "metadata": {
        "id": "OBVhYwfY4x3h"
      },
      "execution_count": null,
      "outputs": []
    },
    {
      "cell_type": "code",
      "source": [
        "print(Y_pred_dt.shape)"
      ],
      "metadata": {
        "colab": {
          "base_uri": "https://localhost:8080/"
        },
        "id": "kz5MC1T240WO",
        "outputId": "f309404a-0563-47cc-9733-5f03fed13f5d"
      },
      "execution_count": null,
      "outputs": [
        {
          "output_type": "stream",
          "name": "stdout",
          "text": [
            "(61,)\n"
          ]
        }
      ]
    },
    {
      "cell_type": "code",
      "source": [
        "acc_score_dt = round(accuracy_score(Y_pred_dt,Y_test)*100,2)\n",
        "\n",
        "print(\"The Accuracy Score achieved using Decision Tree is: \"+str(acc_score_dt)+\" %\")"
      ],
      "metadata": {
        "colab": {
          "base_uri": "https://localhost:8080/"
        },
        "id": "H8fGMJgx44L2",
        "outputId": "db1197b3-8c77-448e-a183-09ecb586886a"
      },
      "execution_count": null,
      "outputs": [
        {
          "output_type": "stream",
          "name": "stdout",
          "text": [
            "The Accuracy Score achieved using Decision Tree is: 81.97 %\n"
          ]
        }
      ]
    },
    {
      "cell_type": "code",
      "source": [
        "\n",
        "pre_score_dt = round(precision_score(Y_pred_dt,Y_test)*100,2)\n",
        "\n",
        "print(\"The Precision Score achieved using Decision Tree is: \"+str(pre_score_dt)+\" %\")"
      ],
      "metadata": {
        "colab": {
          "base_uri": "https://localhost:8080/"
        },
        "id": "4py-SV4s44ge",
        "outputId": "797b49da-35c8-4b1c-b3a6-0d054147e7d6"
      },
      "execution_count": null,
      "outputs": [
        {
          "output_type": "stream",
          "name": "stdout",
          "text": [
            "The Precision Score achieved using Decision Tree is: 82.35 %\n"
          ]
        }
      ]
    },
    {
      "cell_type": "code",
      "source": [
        "rec_score_dt = round(recall_score(Y_pred_dt,Y_test)*100,2)\n",
        "\n",
        "print(\"The Recall Score achieved using Decision Tree is: \"+str(rec_score_dt)+\" %\")"
      ],
      "metadata": {
        "colab": {
          "base_uri": "https://localhost:8080/"
        },
        "id": "PFGl_o0_4_Jv",
        "outputId": "6a6efaee-3b65-438d-e882-08cfbdcf3bb4"
      },
      "execution_count": null,
      "outputs": [
        {
          "output_type": "stream",
          "name": "stdout",
          "text": [
            "The Recall Score achieved using Decision Tree is: 84.85 %\n"
          ]
        }
      ]
    },
    {
      "cell_type": "code",
      "source": [
        "\n",
        "f1_score_dt = round(f1_score(Y_pred_dt,Y_test)*100,2)\n",
        "\n",
        "print(\"The F1-Score achieved using Decision Tree is: \"+str(f1_score_dt)+\" %\")"
      ],
      "metadata": {
        "colab": {
          "base_uri": "https://localhost:8080/"
        },
        "id": "2wqRnVJR5B11",
        "outputId": "4c93674e-c7f3-48b1-81a4-904e297b847a"
      },
      "execution_count": null,
      "outputs": [
        {
          "output_type": "stream",
          "name": "stdout",
          "text": [
            "The F1-Score achieved using Decision Tree is: 83.58 %\n"
          ]
        }
      ]
    },
    {
      "cell_type": "markdown",
      "source": [
        "Random Forest"
      ],
      "metadata": {
        "id": "yH4QoXnt5H0V"
      }
    },
    {
      "cell_type": "code",
      "source": [
        "from sklearn.ensemble import RandomForestClassifier\n",
        "\n",
        "max_accuracy = 0\n",
        "\n",
        "\n",
        "for x in range(2000):\n",
        "    rf = RandomForestClassifier(random_state=x)\n",
        "    rf.fit(X_train,Y_train)\n",
        "    Y_pred_rf = rf.predict(X_test)\n",
        "    current_accuracy = round(accuracy_score(Y_pred_rf,Y_test)*100,2)\n",
        "    if(current_accuracy>max_accuracy):\n",
        "        max_accuracy = current_accuracy\n",
        "        best_x = x\n",
        "\n",
        "#print(max_accuracy)\n",
        "#print(best_x)\n",
        "\n",
        "rf = RandomForestClassifier(random_state=best_x)\n",
        "rf.fit(X_train,Y_train)\n",
        "Y_pred_rf = rf.predict(X_test)"
      ],
      "metadata": {
        "id": "0Z9anug35U8L"
      },
      "execution_count": null,
      "outputs": []
    },
    {
      "cell_type": "code",
      "source": [
        "Y_pred_rf.shape"
      ],
      "metadata": {
        "colab": {
          "base_uri": "https://localhost:8080/"
        },
        "id": "jBv-pnVO5XQM",
        "outputId": "d23611cd-ca7c-4644-8622-25cc9a415a1c"
      },
      "execution_count": null,
      "outputs": [
        {
          "output_type": "execute_result",
          "data": {
            "text/plain": [
              "(61,)"
            ]
          },
          "metadata": {},
          "execution_count": 63
        }
      ]
    },
    {
      "cell_type": "code",
      "source": [
        "acc_score_rf = round(accuracy_score(Y_pred_rf,Y_test)*100,2)\n",
        "\n",
        "print(\"The Accuracy Score achieved using Decision Tree is: \"+str(acc_score_rf)+\" %\")"
      ],
      "metadata": {
        "colab": {
          "base_uri": "https://localhost:8080/"
        },
        "id": "3p9GD-v45bfR",
        "outputId": "c882d801-ccdd-4264-f003-d0bfa3418f8b"
      },
      "execution_count": null,
      "outputs": [
        {
          "output_type": "stream",
          "name": "stdout",
          "text": [
            "The Accuracy Score achieved using Decision Tree is: 90.16 %\n"
          ]
        }
      ]
    },
    {
      "cell_type": "code",
      "source": [
        "\n",
        "pre_score_rf = round(precision_score(Y_pred_rf,Y_test)*100,2)\n",
        "\n",
        "print(\"The Precision score achieved using Decision Tree is: \"+str(pre_score_rf)+\" %\")"
      ],
      "metadata": {
        "colab": {
          "base_uri": "https://localhost:8080/"
        },
        "id": "sKavWYy25iVQ",
        "outputId": "b9a28d8f-d7bd-4f7e-aaf3-93bc8b4f2d1e"
      },
      "execution_count": null,
      "outputs": [
        {
          "output_type": "stream",
          "name": "stdout",
          "text": [
            "The Precision score achieved using Decision Tree is: 94.12 %\n"
          ]
        }
      ]
    },
    {
      "cell_type": "code",
      "source": [
        "rec_score_rf = round(recall_score(Y_pred_rf,Y_test)*100,2)\n",
        "\n",
        "print(\"The Recall score achieved using Decision Tree is: \"+str(rec_score_rf)+\" %\")\n"
      ],
      "metadata": {
        "colab": {
          "base_uri": "https://localhost:8080/"
        },
        "id": "XUYCRtwq5lcc",
        "outputId": "1696a8e1-30bd-41af-9778-282f702f2c8f"
      },
      "execution_count": null,
      "outputs": [
        {
          "output_type": "stream",
          "name": "stdout",
          "text": [
            "The Recall score achieved using Decision Tree is: 88.89 %\n"
          ]
        }
      ]
    },
    {
      "cell_type": "code",
      "source": [
        "f1_score_rf = round(f1_score(Y_pred_rf,Y_test)*100,2)\n",
        "\n",
        "print(\"The F1-Score achieved using Decision Tree is: \"+str(f1_score_rf)+\" %\")"
      ],
      "metadata": {
        "colab": {
          "base_uri": "https://localhost:8080/"
        },
        "id": "pOb50MaD5nz5",
        "outputId": "181a9885-9ed5-422a-8b23-b530baaf132a"
      },
      "execution_count": null,
      "outputs": [
        {
          "output_type": "stream",
          "name": "stdout",
          "text": [
            "The F1-Score achieved using Decision Tree is: 91.43 %\n"
          ]
        }
      ]
    },
    {
      "cell_type": "markdown",
      "source": [
        "XGBoost"
      ],
      "metadata": {
        "id": "DRff1YnA5rMn"
      }
    },
    {
      "cell_type": "code",
      "source": [
        "\n",
        "import xgboost as xgb\n",
        "\n",
        "xgb_model = xgb.XGBClassifier(objective=\"binary:logistic\", random_state=42)\n",
        "xgb_model.fit(X_train, Y_train)\n",
        "\n",
        "Y_pred_xgb = xgb_model.predict(X_test)"
      ],
      "metadata": {
        "id": "qJ3J79uN5tqv"
      },
      "execution_count": null,
      "outputs": []
    },
    {
      "cell_type": "code",
      "source": [
        "Y_pred_xgb.shape"
      ],
      "metadata": {
        "colab": {
          "base_uri": "https://localhost:8080/"
        },
        "id": "2tCC_Z9s5xi8",
        "outputId": "bf69d1da-f0f1-46c1-e329-0d742d5ef070"
      },
      "execution_count": null,
      "outputs": [
        {
          "output_type": "execute_result",
          "data": {
            "text/plain": [
              "(61,)"
            ]
          },
          "metadata": {},
          "execution_count": 69
        }
      ]
    },
    {
      "cell_type": "code",
      "source": [
        "acc_score_xgb = round(accuracy_score(Y_pred_xgb,Y_test)*100,2)\n",
        "\n",
        "print(\"The Accuracy Score achieved using XGBoost is: \"+str(acc_score_xgb)+\" %\")"
      ],
      "metadata": {
        "colab": {
          "base_uri": "https://localhost:8080/"
        },
        "id": "dWIQGNYm52DT",
        "outputId": "8e9228e2-f7e3-4855-c2aa-3bc340fbe591"
      },
      "execution_count": null,
      "outputs": [
        {
          "output_type": "stream",
          "name": "stdout",
          "text": [
            "The Accuracy Score achieved using XGBoost is: 83.61 %\n"
          ]
        }
      ]
    },
    {
      "cell_type": "code",
      "source": [
        "pre_score_xgb = round(precision_score(Y_pred_xgb,Y_test)*100,2)\n",
        "\n",
        "print(\"The Precision Score achieved using XGBoost is: \"+str(pre_score_xgb)+\" %\")\n"
      ],
      "metadata": {
        "colab": {
          "base_uri": "https://localhost:8080/"
        },
        "id": "xTV8_4iu58ay",
        "outputId": "7c255018-40df-434e-80bf-a4e49e50905d"
      },
      "execution_count": null,
      "outputs": [
        {
          "output_type": "stream",
          "name": "stdout",
          "text": [
            "The Precision Score achieved using XGBoost is: 85.29 %\n"
          ]
        }
      ]
    },
    {
      "cell_type": "code",
      "source": [
        "rec_score_xgb = round(recall_score(Y_pred_xgb,Y_test)*100,2)\n",
        "\n",
        "print(\"The Recall Score achieved using XGBoost is: \"+str(rec_score_xgb)+\" %\")"
      ],
      "metadata": {
        "colab": {
          "base_uri": "https://localhost:8080/"
        },
        "id": "7XyTsTle5-jC",
        "outputId": "ee8905dd-623e-4206-a602-b5d60af4cfab"
      },
      "execution_count": null,
      "outputs": [
        {
          "output_type": "stream",
          "name": "stdout",
          "text": [
            "The Recall Score achieved using XGBoost is: 85.29 %\n"
          ]
        }
      ]
    },
    {
      "cell_type": "code",
      "source": [
        "f1_score_xgb = round(f1_score(Y_pred_xgb,Y_test)*100,2)\n",
        "\n",
        "print(\"The F1-Score achieved using XGBoost is: \"+str(f1_score_xgb)+\" %\")"
      ],
      "metadata": {
        "colab": {
          "base_uri": "https://localhost:8080/"
        },
        "id": "WZvak9hO6A6e",
        "outputId": "1d9ce919-819e-4d3b-c415-cc0c13b68b1e"
      },
      "execution_count": null,
      "outputs": [
        {
          "output_type": "stream",
          "name": "stdout",
          "text": [
            "The F1-Score achieved using XGBoost is: 85.29 %\n"
          ]
        }
      ]
    },
    {
      "cell_type": "markdown",
      "source": [
        "Deep Learning\n",
        "Neural Network"
      ],
      "metadata": {
        "id": "g9QaeecE6DM3"
      }
    },
    {
      "cell_type": "code",
      "source": [
        "from keras.models import Sequential\n",
        "from keras.layers import Dense"
      ],
      "metadata": {
        "id": "990Vy5LS6GaD"
      },
      "execution_count": null,
      "outputs": []
    },
    {
      "cell_type": "code",
      "source": [
        "model = Sequential()\n",
        "model.add(Dense(11,activation='relu',input_dim=13))\n",
        "model.add(Dense(1,activation='sigmoid'))\n",
        "\n",
        "model.compile(loss='binary_crossentropy',optimizer='adam',metrics=['accuracy'])"
      ],
      "metadata": {
        "id": "5rsUJ96e6I3x"
      },
      "execution_count": null,
      "outputs": []
    },
    {
      "cell_type": "code",
      "source": [
        "model.fit(X_train,Y_train,epochs=300)"
      ],
      "metadata": {
        "colab": {
          "base_uri": "https://localhost:8080/"
        },
        "id": "fkk43iN36LBN",
        "outputId": "c27bbdae-99a0-4948-b42a-f4da5e160486"
      },
      "execution_count": null,
      "outputs": [
        {
          "output_type": "stream",
          "name": "stdout",
          "text": [
            "Epoch 1/300\n",
            "8/8 [==============================] - 1s 4ms/step - loss: 76.2596 - accuracy: 0.4587\n",
            "Epoch 2/300\n",
            "8/8 [==============================] - 0s 2ms/step - loss: 69.2061 - accuracy: 0.4587\n",
            "Epoch 3/300\n",
            "8/8 [==============================] - 0s 2ms/step - loss: 62.7114 - accuracy: 0.4587\n",
            "Epoch 4/300\n",
            "8/8 [==============================] - 0s 3ms/step - loss: 56.8071 - accuracy: 0.4587\n",
            "Epoch 5/300\n",
            "8/8 [==============================] - 0s 4ms/step - loss: 51.6865 - accuracy: 0.4587\n",
            "Epoch 6/300\n",
            "8/8 [==============================] - 0s 2ms/step - loss: 46.4279 - accuracy: 0.4587\n",
            "Epoch 7/300\n",
            "8/8 [==============================] - 0s 3ms/step - loss: 41.4998 - accuracy: 0.4587\n",
            "Epoch 8/300\n",
            "8/8 [==============================] - 0s 2ms/step - loss: 36.5208 - accuracy: 0.4587\n",
            "Epoch 9/300\n",
            "8/8 [==============================] - 0s 3ms/step - loss: 31.3993 - accuracy: 0.4545\n",
            "Epoch 10/300\n",
            "8/8 [==============================] - 0s 3ms/step - loss: 26.7687 - accuracy: 0.4463\n",
            "Epoch 11/300\n",
            "8/8 [==============================] - 0s 3ms/step - loss: 21.9067 - accuracy: 0.4463\n",
            "Epoch 12/300\n",
            "8/8 [==============================] - 0s 3ms/step - loss: 17.5676 - accuracy: 0.4463\n",
            "Epoch 13/300\n",
            "8/8 [==============================] - 0s 2ms/step - loss: 13.5915 - accuracy: 0.4504\n",
            "Epoch 14/300\n",
            "8/8 [==============================] - 0s 3ms/step - loss: 10.9474 - accuracy: 0.4421\n",
            "Epoch 15/300\n",
            "8/8 [==============================] - 0s 3ms/step - loss: 9.3803 - accuracy: 0.4628\n",
            "Epoch 16/300\n",
            "8/8 [==============================] - 0s 2ms/step - loss: 8.7044 - accuracy: 0.4917\n",
            "Epoch 17/300\n",
            "8/8 [==============================] - 0s 3ms/step - loss: 8.3384 - accuracy: 0.5041\n",
            "Epoch 18/300\n",
            "8/8 [==============================] - 0s 2ms/step - loss: 8.0569 - accuracy: 0.5124\n",
            "Epoch 19/300\n",
            "8/8 [==============================] - 0s 2ms/step - loss: 7.6841 - accuracy: 0.5165\n",
            "Epoch 20/300\n",
            "8/8 [==============================] - 0s 3ms/step - loss: 6.9629 - accuracy: 0.5331\n",
            "Epoch 21/300\n",
            "8/8 [==============================] - 0s 3ms/step - loss: 6.6102 - accuracy: 0.5372\n",
            "Epoch 22/300\n",
            "8/8 [==============================] - 0s 2ms/step - loss: 6.3014 - accuracy: 0.5289\n",
            "Epoch 23/300\n",
            "8/8 [==============================] - 0s 2ms/step - loss: 5.9548 - accuracy: 0.5083\n",
            "Epoch 24/300\n",
            "8/8 [==============================] - 0s 3ms/step - loss: 5.6603 - accuracy: 0.5041\n",
            "Epoch 25/300\n",
            "8/8 [==============================] - 0s 2ms/step - loss: 5.4181 - accuracy: 0.5041\n",
            "Epoch 26/300\n",
            "8/8 [==============================] - 0s 3ms/step - loss: 5.2154 - accuracy: 0.5165\n",
            "Epoch 27/300\n",
            "8/8 [==============================] - 0s 3ms/step - loss: 5.0047 - accuracy: 0.5124\n",
            "Epoch 28/300\n",
            "8/8 [==============================] - 0s 2ms/step - loss: 4.8189 - accuracy: 0.5041\n",
            "Epoch 29/300\n",
            "8/8 [==============================] - 0s 3ms/step - loss: 4.6279 - accuracy: 0.5041\n",
            "Epoch 30/300\n",
            "8/8 [==============================] - 0s 3ms/step - loss: 4.4546 - accuracy: 0.5207\n",
            "Epoch 31/300\n",
            "8/8 [==============================] - 0s 4ms/step - loss: 4.2965 - accuracy: 0.5289\n",
            "Epoch 32/300\n",
            "8/8 [==============================] - 0s 3ms/step - loss: 4.0728 - accuracy: 0.5083\n",
            "Epoch 33/300\n",
            "8/8 [==============================] - 0s 3ms/step - loss: 3.9409 - accuracy: 0.5165\n",
            "Epoch 34/300\n",
            "8/8 [==============================] - 0s 4ms/step - loss: 3.7684 - accuracy: 0.5165\n",
            "Epoch 35/300\n",
            "8/8 [==============================] - 0s 4ms/step - loss: 3.5710 - accuracy: 0.5289\n",
            "Epoch 36/300\n",
            "8/8 [==============================] - 0s 3ms/step - loss: 3.4109 - accuracy: 0.5289\n",
            "Epoch 37/300\n",
            "8/8 [==============================] - 0s 4ms/step - loss: 3.2606 - accuracy: 0.5331\n",
            "Epoch 38/300\n",
            "8/8 [==============================] - 0s 5ms/step - loss: 3.0524 - accuracy: 0.5372\n",
            "Epoch 39/300\n",
            "8/8 [==============================] - 0s 3ms/step - loss: 2.8974 - accuracy: 0.5331\n",
            "Epoch 40/300\n",
            "8/8 [==============================] - 0s 3ms/step - loss: 2.7592 - accuracy: 0.5496\n",
            "Epoch 41/300\n",
            "8/8 [==============================] - 0s 3ms/step - loss: 2.5744 - accuracy: 0.5620\n",
            "Epoch 42/300\n",
            "8/8 [==============================] - 0s 3ms/step - loss: 2.4097 - accuracy: 0.5579\n",
            "Epoch 43/300\n",
            "8/8 [==============================] - 0s 4ms/step - loss: 2.2569 - accuracy: 0.5620\n",
            "Epoch 44/300\n",
            "8/8 [==============================] - 0s 3ms/step - loss: 2.0998 - accuracy: 0.5620\n",
            "Epoch 45/300\n",
            "8/8 [==============================] - 0s 3ms/step - loss: 1.9711 - accuracy: 0.5661\n",
            "Epoch 46/300\n",
            "8/8 [==============================] - 0s 3ms/step - loss: 1.8396 - accuracy: 0.5744\n",
            "Epoch 47/300\n",
            "8/8 [==============================] - 0s 3ms/step - loss: 1.6823 - accuracy: 0.5992\n",
            "Epoch 48/300\n",
            "8/8 [==============================] - 0s 3ms/step - loss: 1.5983 - accuracy: 0.5785\n",
            "Epoch 49/300\n",
            "8/8 [==============================] - 0s 3ms/step - loss: 1.4443 - accuracy: 0.6116\n",
            "Epoch 50/300\n",
            "8/8 [==============================] - 0s 3ms/step - loss: 1.3479 - accuracy: 0.6157\n",
            "Epoch 51/300\n",
            "8/8 [==============================] - 0s 5ms/step - loss: 1.2832 - accuracy: 0.6116\n",
            "Epoch 52/300\n",
            "8/8 [==============================] - 0s 3ms/step - loss: 1.1972 - accuracy: 0.6157\n",
            "Epoch 53/300\n",
            "8/8 [==============================] - 0s 4ms/step - loss: 1.0977 - accuracy: 0.6157\n",
            "Epoch 54/300\n",
            "8/8 [==============================] - 0s 3ms/step - loss: 1.0271 - accuracy: 0.6198\n",
            "Epoch 55/300\n",
            "8/8 [==============================] - 0s 8ms/step - loss: 0.9605 - accuracy: 0.6322\n",
            "Epoch 56/300\n",
            "8/8 [==============================] - 0s 6ms/step - loss: 0.9638 - accuracy: 0.6364\n",
            "Epoch 57/300\n",
            "8/8 [==============================] - 0s 4ms/step - loss: 0.9056 - accuracy: 0.6405\n",
            "Epoch 58/300\n",
            "8/8 [==============================] - 0s 5ms/step - loss: 0.8497 - accuracy: 0.6694\n",
            "Epoch 59/300\n",
            "8/8 [==============================] - 0s 5ms/step - loss: 0.8351 - accuracy: 0.6777\n",
            "Epoch 60/300\n",
            "8/8 [==============================] - 0s 4ms/step - loss: 0.7982 - accuracy: 0.6942\n",
            "Epoch 61/300\n",
            "8/8 [==============================] - 0s 5ms/step - loss: 0.7739 - accuracy: 0.6860\n",
            "Epoch 62/300\n",
            "8/8 [==============================] - 0s 4ms/step - loss: 0.7496 - accuracy: 0.7231\n",
            "Epoch 63/300\n",
            "8/8 [==============================] - 0s 4ms/step - loss: 0.7358 - accuracy: 0.6983\n",
            "Epoch 64/300\n",
            "8/8 [==============================] - 0s 8ms/step - loss: 0.7132 - accuracy: 0.7149\n",
            "Epoch 65/300\n",
            "8/8 [==============================] - 0s 4ms/step - loss: 0.7067 - accuracy: 0.7479\n",
            "Epoch 66/300\n",
            "8/8 [==============================] - 0s 4ms/step - loss: 0.6886 - accuracy: 0.7107\n",
            "Epoch 67/300\n",
            "8/8 [==============================] - 0s 4ms/step - loss: 0.6709 - accuracy: 0.7231\n",
            "Epoch 68/300\n",
            "8/8 [==============================] - 0s 4ms/step - loss: 0.6581 - accuracy: 0.7355\n",
            "Epoch 69/300\n",
            "8/8 [==============================] - 0s 4ms/step - loss: 0.6460 - accuracy: 0.7314\n",
            "Epoch 70/300\n",
            "8/8 [==============================] - 0s 5ms/step - loss: 0.6342 - accuracy: 0.7273\n",
            "Epoch 71/300\n",
            "8/8 [==============================] - 0s 4ms/step - loss: 0.6234 - accuracy: 0.7355\n",
            "Epoch 72/300\n",
            "8/8 [==============================] - 0s 4ms/step - loss: 0.6175 - accuracy: 0.7438\n",
            "Epoch 73/300\n",
            "8/8 [==============================] - 0s 4ms/step - loss: 0.6053 - accuracy: 0.7562\n",
            "Epoch 74/300\n",
            "8/8 [==============================] - 0s 4ms/step - loss: 0.5967 - accuracy: 0.7645\n",
            "Epoch 75/300\n",
            "8/8 [==============================] - 0s 4ms/step - loss: 0.5932 - accuracy: 0.7810\n",
            "Epoch 76/300\n",
            "8/8 [==============================] - 0s 8ms/step - loss: 0.5886 - accuracy: 0.7521\n",
            "Epoch 77/300\n",
            "8/8 [==============================] - 0s 8ms/step - loss: 0.5761 - accuracy: 0.7769\n",
            "Epoch 78/300\n",
            "8/8 [==============================] - 0s 10ms/step - loss: 0.5674 - accuracy: 0.7769\n",
            "Epoch 79/300\n",
            "8/8 [==============================] - 0s 9ms/step - loss: 0.5609 - accuracy: 0.7810\n",
            "Epoch 80/300\n",
            "8/8 [==============================] - 0s 8ms/step - loss: 0.5572 - accuracy: 0.7851\n",
            "Epoch 81/300\n",
            "8/8 [==============================] - 0s 9ms/step - loss: 0.5498 - accuracy: 0.7810\n",
            "Epoch 82/300\n",
            "8/8 [==============================] - 0s 11ms/step - loss: 0.5414 - accuracy: 0.7810\n",
            "Epoch 83/300\n",
            "8/8 [==============================] - 0s 6ms/step - loss: 0.5379 - accuracy: 0.7851\n",
            "Epoch 84/300\n",
            "8/8 [==============================] - 0s 5ms/step - loss: 0.5343 - accuracy: 0.7934\n",
            "Epoch 85/300\n",
            "8/8 [==============================] - 0s 4ms/step - loss: 0.5478 - accuracy: 0.7686\n",
            "Epoch 86/300\n",
            "8/8 [==============================] - 0s 5ms/step - loss: 0.5322 - accuracy: 0.7893\n",
            "Epoch 87/300\n",
            "8/8 [==============================] - 0s 3ms/step - loss: 0.5205 - accuracy: 0.7851\n",
            "Epoch 88/300\n",
            "8/8 [==============================] - 0s 3ms/step - loss: 0.5381 - accuracy: 0.7686\n",
            "Epoch 89/300\n",
            "8/8 [==============================] - 0s 9ms/step - loss: 0.5306 - accuracy: 0.7769\n",
            "Epoch 90/300\n",
            "8/8 [==============================] - 0s 4ms/step - loss: 0.5127 - accuracy: 0.7727\n",
            "Epoch 91/300\n",
            "8/8 [==============================] - 0s 8ms/step - loss: 0.5012 - accuracy: 0.8017\n",
            "Epoch 92/300\n",
            "8/8 [==============================] - 0s 6ms/step - loss: 0.4949 - accuracy: 0.7893\n",
            "Epoch 93/300\n",
            "8/8 [==============================] - 0s 5ms/step - loss: 0.4896 - accuracy: 0.7810\n",
            "Epoch 94/300\n",
            "8/8 [==============================] - 0s 11ms/step - loss: 0.4871 - accuracy: 0.7893\n",
            "Epoch 95/300\n",
            "8/8 [==============================] - 0s 7ms/step - loss: 0.4893 - accuracy: 0.7769\n",
            "Epoch 96/300\n",
            "8/8 [==============================] - 0s 12ms/step - loss: 0.5012 - accuracy: 0.7645\n",
            "Epoch 97/300\n",
            "8/8 [==============================] - 0s 18ms/step - loss: 0.4866 - accuracy: 0.8017\n",
            "Epoch 98/300\n",
            "8/8 [==============================] - 0s 10ms/step - loss: 0.4647 - accuracy: 0.7934\n",
            "Epoch 99/300\n",
            "8/8 [==============================] - 0s 9ms/step - loss: 0.4616 - accuracy: 0.7975\n",
            "Epoch 100/300\n",
            "8/8 [==============================] - 0s 10ms/step - loss: 0.4655 - accuracy: 0.7851\n",
            "Epoch 101/300\n",
            "8/8 [==============================] - 0s 11ms/step - loss: 0.4536 - accuracy: 0.8182\n",
            "Epoch 102/300\n",
            "8/8 [==============================] - 0s 23ms/step - loss: 0.4788 - accuracy: 0.7851\n",
            "Epoch 103/300\n",
            "8/8 [==============================] - 0s 14ms/step - loss: 0.4473 - accuracy: 0.7975\n",
            "Epoch 104/300\n",
            "8/8 [==============================] - 0s 15ms/step - loss: 0.4472 - accuracy: 0.8058\n",
            "Epoch 105/300\n",
            "8/8 [==============================] - 0s 6ms/step - loss: 0.4569 - accuracy: 0.7810\n",
            "Epoch 106/300\n",
            "8/8 [==============================] - 0s 6ms/step - loss: 0.4363 - accuracy: 0.8058\n",
            "Epoch 107/300\n",
            "8/8 [==============================] - 0s 5ms/step - loss: 0.4424 - accuracy: 0.7893\n",
            "Epoch 108/300\n",
            "8/8 [==============================] - 0s 4ms/step - loss: 0.4303 - accuracy: 0.8182\n",
            "Epoch 109/300\n",
            "8/8 [==============================] - 0s 3ms/step - loss: 0.4292 - accuracy: 0.8099\n",
            "Epoch 110/300\n",
            "8/8 [==============================] - 0s 4ms/step - loss: 0.4249 - accuracy: 0.8140\n",
            "Epoch 111/300\n",
            "8/8 [==============================] - 0s 3ms/step - loss: 0.4210 - accuracy: 0.8058\n",
            "Epoch 112/300\n",
            "8/8 [==============================] - 0s 4ms/step - loss: 0.4151 - accuracy: 0.8140\n",
            "Epoch 113/300\n",
            "8/8 [==============================] - 0s 5ms/step - loss: 0.4385 - accuracy: 0.7934\n",
            "Epoch 114/300\n",
            "8/8 [==============================] - 0s 7ms/step - loss: 0.4186 - accuracy: 0.8182\n",
            "Epoch 115/300\n",
            "8/8 [==============================] - 0s 6ms/step - loss: 0.4052 - accuracy: 0.8140\n",
            "Epoch 116/300\n",
            "8/8 [==============================] - 0s 9ms/step - loss: 0.4098 - accuracy: 0.8140\n",
            "Epoch 117/300\n",
            "8/8 [==============================] - 0s 10ms/step - loss: 0.4048 - accuracy: 0.8182\n",
            "Epoch 118/300\n",
            "8/8 [==============================] - 0s 13ms/step - loss: 0.4040 - accuracy: 0.8099\n",
            "Epoch 119/300\n",
            "8/8 [==============================] - 0s 8ms/step - loss: 0.4004 - accuracy: 0.8223\n",
            "Epoch 120/300\n",
            "8/8 [==============================] - 0s 8ms/step - loss: 0.3993 - accuracy: 0.8182\n",
            "Epoch 121/300\n",
            "8/8 [==============================] - 0s 7ms/step - loss: 0.3980 - accuracy: 0.8223\n",
            "Epoch 122/300\n",
            "8/8 [==============================] - 0s 6ms/step - loss: 0.3979 - accuracy: 0.8223\n",
            "Epoch 123/300\n",
            "8/8 [==============================] - 0s 8ms/step - loss: 0.4412 - accuracy: 0.7810\n",
            "Epoch 124/300\n",
            "8/8 [==============================] - 0s 12ms/step - loss: 0.4430 - accuracy: 0.7934\n",
            "Epoch 125/300\n",
            "8/8 [==============================] - 0s 7ms/step - loss: 0.4338 - accuracy: 0.7975\n",
            "Epoch 126/300\n",
            "8/8 [==============================] - 0s 12ms/step - loss: 0.4023 - accuracy: 0.8099\n",
            "Epoch 127/300\n",
            "8/8 [==============================] - 0s 14ms/step - loss: 0.4001 - accuracy: 0.8347\n",
            "Epoch 128/300\n",
            "8/8 [==============================] - 0s 12ms/step - loss: 0.3905 - accuracy: 0.8388\n",
            "Epoch 129/300\n",
            "8/8 [==============================] - 0s 11ms/step - loss: 0.3942 - accuracy: 0.8140\n",
            "Epoch 130/300\n",
            "8/8 [==============================] - 0s 13ms/step - loss: 0.3910 - accuracy: 0.8347\n",
            "Epoch 131/300\n",
            "8/8 [==============================] - 0s 8ms/step - loss: 0.3867 - accuracy: 0.8182\n",
            "Epoch 132/300\n",
            "8/8 [==============================] - 0s 7ms/step - loss: 0.3891 - accuracy: 0.8388\n",
            "Epoch 133/300\n",
            "8/8 [==============================] - 0s 6ms/step - loss: 0.4005 - accuracy: 0.8264\n",
            "Epoch 134/300\n",
            "8/8 [==============================] - 0s 6ms/step - loss: 0.3922 - accuracy: 0.8264\n",
            "Epoch 135/300\n",
            "8/8 [==============================] - 0s 5ms/step - loss: 0.3902 - accuracy: 0.8430\n",
            "Epoch 136/300\n",
            "8/8 [==============================] - 0s 10ms/step - loss: 0.3887 - accuracy: 0.8223\n",
            "Epoch 137/300\n",
            "8/8 [==============================] - 0s 9ms/step - loss: 0.3875 - accuracy: 0.8430\n",
            "Epoch 138/300\n",
            "8/8 [==============================] - 0s 14ms/step - loss: 0.3809 - accuracy: 0.8512\n",
            "Epoch 139/300\n",
            "8/8 [==============================] - 0s 12ms/step - loss: 0.3888 - accuracy: 0.8430\n",
            "Epoch 140/300\n",
            "8/8 [==============================] - 0s 3ms/step - loss: 0.3930 - accuracy: 0.8347\n",
            "Epoch 141/300\n",
            "8/8 [==============================] - 0s 8ms/step - loss: 0.4196 - accuracy: 0.8140\n",
            "Epoch 142/300\n",
            "8/8 [==============================] - 0s 6ms/step - loss: 0.4189 - accuracy: 0.7851\n",
            "Epoch 143/300\n",
            "8/8 [==============================] - 0s 5ms/step - loss: 0.4015 - accuracy: 0.8223\n",
            "Epoch 144/300\n",
            "8/8 [==============================] - 0s 4ms/step - loss: 0.3873 - accuracy: 0.8388\n",
            "Epoch 145/300\n",
            "8/8 [==============================] - 0s 5ms/step - loss: 0.3843 - accuracy: 0.8471\n",
            "Epoch 146/300\n",
            "8/8 [==============================] - 0s 9ms/step - loss: 0.3786 - accuracy: 0.8471\n",
            "Epoch 147/300\n",
            "8/8 [==============================] - 0s 7ms/step - loss: 0.3773 - accuracy: 0.8388\n",
            "Epoch 148/300\n",
            "8/8 [==============================] - 0s 7ms/step - loss: 0.3764 - accuracy: 0.8554\n",
            "Epoch 149/300\n",
            "8/8 [==============================] - 0s 19ms/step - loss: 0.3768 - accuracy: 0.8388\n",
            "Epoch 150/300\n",
            "8/8 [==============================] - 0s 22ms/step - loss: 0.3842 - accuracy: 0.8430\n",
            "Epoch 151/300\n",
            "8/8 [==============================] - 0s 7ms/step - loss: 0.3806 - accuracy: 0.8595\n",
            "Epoch 152/300\n",
            "8/8 [==============================] - 0s 11ms/step - loss: 0.3665 - accuracy: 0.8554\n",
            "Epoch 153/300\n",
            "8/8 [==============================] - 0s 11ms/step - loss: 0.3905 - accuracy: 0.8182\n",
            "Epoch 154/300\n",
            "8/8 [==============================] - 0s 9ms/step - loss: 0.3806 - accuracy: 0.8306\n",
            "Epoch 155/300\n",
            "8/8 [==============================] - 0s 9ms/step - loss: 0.3932 - accuracy: 0.8223\n",
            "Epoch 156/300\n",
            "8/8 [==============================] - 0s 5ms/step - loss: 0.3823 - accuracy: 0.8306\n",
            "Epoch 157/300\n",
            "8/8 [==============================] - 0s 5ms/step - loss: 0.3903 - accuracy: 0.8099\n",
            "Epoch 158/300\n",
            "8/8 [==============================] - 0s 5ms/step - loss: 0.3837 - accuracy: 0.8554\n",
            "Epoch 159/300\n",
            "8/8 [==============================] - 0s 9ms/step - loss: 0.3900 - accuracy: 0.8347\n",
            "Epoch 160/300\n",
            "8/8 [==============================] - 0s 9ms/step - loss: 0.3989 - accuracy: 0.8140\n",
            "Epoch 161/300\n",
            "8/8 [==============================] - 0s 7ms/step - loss: 0.3706 - accuracy: 0.8512\n",
            "Epoch 162/300\n",
            "8/8 [==============================] - 0s 16ms/step - loss: 0.3728 - accuracy: 0.8430\n",
            "Epoch 163/300\n",
            "8/8 [==============================] - 0s 22ms/step - loss: 0.3704 - accuracy: 0.8595\n",
            "Epoch 164/300\n",
            "8/8 [==============================] - 0s 10ms/step - loss: 0.3879 - accuracy: 0.8058\n",
            "Epoch 165/300\n",
            "8/8 [==============================] - 0s 7ms/step - loss: 0.3860 - accuracy: 0.8223\n",
            "Epoch 166/300\n",
            "8/8 [==============================] - 0s 7ms/step - loss: 0.3730 - accuracy: 0.8471\n",
            "Epoch 167/300\n",
            "8/8 [==============================] - 0s 6ms/step - loss: 0.3749 - accuracy: 0.8430\n",
            "Epoch 168/300\n",
            "8/8 [==============================] - 0s 6ms/step - loss: 0.3674 - accuracy: 0.8430\n",
            "Epoch 169/300\n",
            "8/8 [==============================] - 0s 6ms/step - loss: 0.3668 - accuracy: 0.8512\n",
            "Epoch 170/300\n",
            "8/8 [==============================] - 0s 8ms/step - loss: 0.3678 - accuracy: 0.8554\n",
            "Epoch 171/300\n",
            "8/8 [==============================] - 0s 11ms/step - loss: 0.3678 - accuracy: 0.8512\n",
            "Epoch 172/300\n",
            "8/8 [==============================] - 0s 11ms/step - loss: 0.3668 - accuracy: 0.8554\n",
            "Epoch 173/300\n",
            "8/8 [==============================] - 0s 15ms/step - loss: 0.3700 - accuracy: 0.8347\n",
            "Epoch 174/300\n",
            "8/8 [==============================] - 0s 22ms/step - loss: 0.3645 - accuracy: 0.8636\n",
            "Epoch 175/300\n",
            "8/8 [==============================] - 0s 6ms/step - loss: 0.3647 - accuracy: 0.8554\n",
            "Epoch 176/300\n",
            "8/8 [==============================] - 0s 9ms/step - loss: 0.3756 - accuracy: 0.8471\n",
            "Epoch 177/300\n",
            "8/8 [==============================] - 0s 9ms/step - loss: 0.3729 - accuracy: 0.8223\n",
            "Epoch 178/300\n",
            "8/8 [==============================] - 0s 9ms/step - loss: 0.3648 - accuracy: 0.8471\n",
            "Epoch 179/300\n",
            "8/8 [==============================] - 0s 11ms/step - loss: 0.3653 - accuracy: 0.8471\n",
            "Epoch 180/300\n",
            "8/8 [==============================] - 0s 5ms/step - loss: 0.3826 - accuracy: 0.8347\n",
            "Epoch 181/300\n",
            "8/8 [==============================] - 0s 13ms/step - loss: 0.3651 - accuracy: 0.8430\n",
            "Epoch 182/300\n",
            "8/8 [==============================] - 0s 9ms/step - loss: 0.3703 - accuracy: 0.8471\n",
            "Epoch 183/300\n",
            "8/8 [==============================] - 0s 7ms/step - loss: 0.3757 - accuracy: 0.8554\n",
            "Epoch 184/300\n",
            "8/8 [==============================] - 0s 8ms/step - loss: 0.3601 - accuracy: 0.8554\n",
            "Epoch 185/300\n",
            "8/8 [==============================] - 0s 5ms/step - loss: 0.4000 - accuracy: 0.8306\n",
            "Epoch 186/300\n",
            "8/8 [==============================] - 0s 3ms/step - loss: 0.3836 - accuracy: 0.8099\n",
            "Epoch 187/300\n",
            "8/8 [==============================] - 0s 11ms/step - loss: 0.3767 - accuracy: 0.8430\n",
            "Epoch 188/300\n",
            "8/8 [==============================] - 0s 11ms/step - loss: 0.3725 - accuracy: 0.8636\n",
            "Epoch 189/300\n",
            "8/8 [==============================] - 0s 10ms/step - loss: 0.3652 - accuracy: 0.8471\n",
            "Epoch 190/300\n",
            "8/8 [==============================] - 0s 9ms/step - loss: 0.3665 - accuracy: 0.8471\n",
            "Epoch 191/300\n",
            "8/8 [==============================] - 0s 7ms/step - loss: 0.3736 - accuracy: 0.8388\n",
            "Epoch 192/300\n",
            "8/8 [==============================] - 0s 6ms/step - loss: 0.3760 - accuracy: 0.8306\n",
            "Epoch 193/300\n",
            "8/8 [==============================] - 0s 8ms/step - loss: 0.3784 - accuracy: 0.8471\n",
            "Epoch 194/300\n",
            "8/8 [==============================] - 0s 12ms/step - loss: 0.3692 - accuracy: 0.8471\n",
            "Epoch 195/300\n",
            "8/8 [==============================] - 0s 13ms/step - loss: 0.3659 - accuracy: 0.8471\n",
            "Epoch 196/300\n",
            "8/8 [==============================] - 0s 7ms/step - loss: 0.3639 - accuracy: 0.8430\n",
            "Epoch 197/300\n",
            "8/8 [==============================] - 0s 5ms/step - loss: 0.3701 - accuracy: 0.8388\n",
            "Epoch 198/300\n",
            "8/8 [==============================] - 0s 7ms/step - loss: 0.3794 - accuracy: 0.8140\n",
            "Epoch 199/300\n",
            "8/8 [==============================] - 0s 11ms/step - loss: 0.3766 - accuracy: 0.8388\n",
            "Epoch 200/300\n",
            "8/8 [==============================] - 0s 11ms/step - loss: 0.3620 - accuracy: 0.8430\n",
            "Epoch 201/300\n",
            "8/8 [==============================] - 0s 9ms/step - loss: 0.3652 - accuracy: 0.8554\n",
            "Epoch 202/300\n",
            "8/8 [==============================] - 0s 10ms/step - loss: 0.3881 - accuracy: 0.8264\n",
            "Epoch 203/300\n",
            "8/8 [==============================] - 0s 10ms/step - loss: 0.3755 - accuracy: 0.8140\n",
            "Epoch 204/300\n",
            "8/8 [==============================] - 0s 9ms/step - loss: 0.3658 - accuracy: 0.8430\n",
            "Epoch 205/300\n",
            "8/8 [==============================] - 0s 21ms/step - loss: 0.3792 - accuracy: 0.8430\n",
            "Epoch 206/300\n",
            "8/8 [==============================] - 0s 12ms/step - loss: 0.3641 - accuracy: 0.8471\n",
            "Epoch 207/300\n",
            "8/8 [==============================] - 0s 12ms/step - loss: 0.3718 - accuracy: 0.8347\n",
            "Epoch 208/300\n",
            "8/8 [==============================] - 0s 9ms/step - loss: 0.3678 - accuracy: 0.8347\n",
            "Epoch 209/300\n",
            "8/8 [==============================] - 0s 6ms/step - loss: 0.3616 - accuracy: 0.8430\n",
            "Epoch 210/300\n",
            "8/8 [==============================] - 0s 6ms/step - loss: 0.3650 - accuracy: 0.8554\n",
            "Epoch 211/300\n",
            "8/8 [==============================] - 0s 3ms/step - loss: 0.3633 - accuracy: 0.8430\n",
            "Epoch 212/300\n",
            "8/8 [==============================] - 0s 4ms/step - loss: 0.3734 - accuracy: 0.8388\n",
            "Epoch 213/300\n",
            "8/8 [==============================] - 0s 4ms/step - loss: 0.3623 - accuracy: 0.8554\n",
            "Epoch 214/300\n",
            "8/8 [==============================] - 0s 3ms/step - loss: 0.3693 - accuracy: 0.8347\n",
            "Epoch 215/300\n",
            "8/8 [==============================] - 0s 6ms/step - loss: 0.3594 - accuracy: 0.8471\n",
            "Epoch 216/300\n",
            "8/8 [==============================] - 0s 7ms/step - loss: 0.3645 - accuracy: 0.8388\n",
            "Epoch 217/300\n",
            "8/8 [==============================] - 0s 3ms/step - loss: 0.3653 - accuracy: 0.8430\n",
            "Epoch 218/300\n",
            "8/8 [==============================] - 0s 3ms/step - loss: 0.3699 - accuracy: 0.8388\n",
            "Epoch 219/300\n",
            "8/8 [==============================] - 0s 5ms/step - loss: 0.3846 - accuracy: 0.8099\n",
            "Epoch 220/300\n",
            "8/8 [==============================] - 0s 10ms/step - loss: 0.3839 - accuracy: 0.8306\n",
            "Epoch 221/300\n",
            "8/8 [==============================] - 0s 7ms/step - loss: 0.3760 - accuracy: 0.8430\n",
            "Epoch 222/300\n",
            "8/8 [==============================] - 0s 5ms/step - loss: 0.3670 - accuracy: 0.8636\n",
            "Epoch 223/300\n",
            "8/8 [==============================] - 0s 4ms/step - loss: 0.3664 - accuracy: 0.8388\n",
            "Epoch 224/300\n",
            "8/8 [==============================] - 0s 5ms/step - loss: 0.3670 - accuracy: 0.8512\n",
            "Epoch 225/300\n",
            "8/8 [==============================] - 0s 5ms/step - loss: 0.3614 - accuracy: 0.8430\n",
            "Epoch 226/300\n",
            "8/8 [==============================] - 0s 9ms/step - loss: 0.3622 - accuracy: 0.8430\n",
            "Epoch 227/300\n",
            "8/8 [==============================] - 0s 6ms/step - loss: 0.3634 - accuracy: 0.8388\n",
            "Epoch 228/300\n",
            "8/8 [==============================] - 0s 7ms/step - loss: 0.3622 - accuracy: 0.8471\n",
            "Epoch 229/300\n",
            "8/8 [==============================] - 0s 7ms/step - loss: 0.3606 - accuracy: 0.8306\n",
            "Epoch 230/300\n",
            "8/8 [==============================] - 0s 5ms/step - loss: 0.3712 - accuracy: 0.8347\n",
            "Epoch 231/300\n",
            "8/8 [==============================] - 0s 4ms/step - loss: 0.3719 - accuracy: 0.8306\n",
            "Epoch 232/300\n",
            "8/8 [==============================] - 0s 5ms/step - loss: 0.4233 - accuracy: 0.8182\n",
            "Epoch 233/300\n",
            "8/8 [==============================] - 0s 4ms/step - loss: 0.3696 - accuracy: 0.8430\n",
            "Epoch 234/300\n",
            "8/8 [==============================] - 0s 5ms/step - loss: 0.3669 - accuracy: 0.8347\n",
            "Epoch 235/300\n",
            "8/8 [==============================] - 0s 8ms/step - loss: 0.3628 - accuracy: 0.8471\n",
            "Epoch 236/300\n",
            "8/8 [==============================] - 0s 6ms/step - loss: 0.3686 - accuracy: 0.8347\n",
            "Epoch 237/300\n",
            "8/8 [==============================] - 0s 12ms/step - loss: 0.3607 - accuracy: 0.8471\n",
            "Epoch 238/300\n",
            "8/8 [==============================] - 0s 10ms/step - loss: 0.3657 - accuracy: 0.8512\n",
            "Epoch 239/300\n",
            "8/8 [==============================] - 0s 6ms/step - loss: 0.3602 - accuracy: 0.8430\n",
            "Epoch 240/300\n",
            "8/8 [==============================] - 0s 5ms/step - loss: 0.3605 - accuracy: 0.8388\n",
            "Epoch 241/300\n",
            "8/8 [==============================] - 0s 4ms/step - loss: 0.3707 - accuracy: 0.8347\n",
            "Epoch 242/300\n",
            "8/8 [==============================] - 0s 4ms/step - loss: 0.3807 - accuracy: 0.8388\n",
            "Epoch 243/300\n",
            "8/8 [==============================] - 0s 4ms/step - loss: 0.3762 - accuracy: 0.8512\n",
            "Epoch 244/300\n",
            "8/8 [==============================] - 0s 4ms/step - loss: 0.3917 - accuracy: 0.8182\n",
            "Epoch 245/300\n",
            "8/8 [==============================] - 0s 4ms/step - loss: 0.3656 - accuracy: 0.8471\n",
            "Epoch 246/300\n",
            "8/8 [==============================] - 0s 4ms/step - loss: 0.3704 - accuracy: 0.8471\n",
            "Epoch 247/300\n",
            "8/8 [==============================] - 0s 5ms/step - loss: 0.3682 - accuracy: 0.8636\n",
            "Epoch 248/300\n",
            "8/8 [==============================] - 0s 4ms/step - loss: 0.3915 - accuracy: 0.8264\n",
            "Epoch 249/300\n",
            "8/8 [==============================] - 0s 4ms/step - loss: 0.3921 - accuracy: 0.8306\n",
            "Epoch 250/300\n",
            "8/8 [==============================] - 0s 4ms/step - loss: 0.3853 - accuracy: 0.8306\n",
            "Epoch 251/300\n",
            "8/8 [==============================] - 0s 5ms/step - loss: 0.3654 - accuracy: 0.8512\n",
            "Epoch 252/300\n",
            "8/8 [==============================] - 0s 5ms/step - loss: 0.3714 - accuracy: 0.8430\n",
            "Epoch 253/300\n",
            "8/8 [==============================] - 0s 4ms/step - loss: 0.3701 - accuracy: 0.8306\n",
            "Epoch 254/300\n",
            "8/8 [==============================] - 0s 5ms/step - loss: 0.3621 - accuracy: 0.8471\n",
            "Epoch 255/300\n",
            "8/8 [==============================] - 0s 5ms/step - loss: 0.3637 - accuracy: 0.8512\n",
            "Epoch 256/300\n",
            "8/8 [==============================] - 0s 6ms/step - loss: 0.3668 - accuracy: 0.8388\n",
            "Epoch 257/300\n",
            "8/8 [==============================] - 0s 7ms/step - loss: 0.3780 - accuracy: 0.8306\n",
            "Epoch 258/300\n",
            "8/8 [==============================] - 0s 12ms/step - loss: 0.3601 - accuracy: 0.8347\n",
            "Epoch 259/300\n",
            "8/8 [==============================] - 0s 10ms/step - loss: 0.3636 - accuracy: 0.8512\n",
            "Epoch 260/300\n",
            "8/8 [==============================] - 0s 6ms/step - loss: 0.3591 - accuracy: 0.8388\n",
            "Epoch 261/300\n",
            "8/8 [==============================] - 0s 5ms/step - loss: 0.3651 - accuracy: 0.8512\n",
            "Epoch 262/300\n",
            "8/8 [==============================] - 0s 4ms/step - loss: 0.3585 - accuracy: 0.8347\n",
            "Epoch 263/300\n",
            "8/8 [==============================] - 0s 4ms/step - loss: 0.3682 - accuracy: 0.8388\n",
            "Epoch 264/300\n",
            "8/8 [==============================] - 0s 6ms/step - loss: 0.3701 - accuracy: 0.8306\n",
            "Epoch 265/300\n",
            "8/8 [==============================] - 0s 4ms/step - loss: 0.3619 - accuracy: 0.8347\n",
            "Epoch 266/300\n",
            "8/8 [==============================] - 0s 5ms/step - loss: 0.3633 - accuracy: 0.8388\n",
            "Epoch 267/300\n",
            "8/8 [==============================] - 0s 4ms/step - loss: 0.3575 - accuracy: 0.8430\n",
            "Epoch 268/300\n",
            "8/8 [==============================] - 0s 4ms/step - loss: 0.3591 - accuracy: 0.8347\n",
            "Epoch 269/300\n",
            "8/8 [==============================] - 0s 4ms/step - loss: 0.3642 - accuracy: 0.8471\n",
            "Epoch 270/300\n",
            "8/8 [==============================] - 0s 4ms/step - loss: 0.3659 - accuracy: 0.8430\n",
            "Epoch 271/300\n",
            "8/8 [==============================] - 0s 4ms/step - loss: 0.3792 - accuracy: 0.8099\n",
            "Epoch 272/300\n",
            "8/8 [==============================] - 0s 3ms/step - loss: 0.3870 - accuracy: 0.7975\n",
            "Epoch 273/300\n",
            "8/8 [==============================] - 0s 3ms/step - loss: 0.3699 - accuracy: 0.8512\n",
            "Epoch 274/300\n",
            "8/8 [==============================] - 0s 4ms/step - loss: 0.3599 - accuracy: 0.8430\n",
            "Epoch 275/300\n",
            "8/8 [==============================] - 0s 4ms/step - loss: 0.3708 - accuracy: 0.8306\n",
            "Epoch 276/300\n",
            "8/8 [==============================] - 0s 3ms/step - loss: 0.3610 - accuracy: 0.8306\n",
            "Epoch 277/300\n",
            "8/8 [==============================] - 0s 3ms/step - loss: 0.3587 - accuracy: 0.8388\n",
            "Epoch 278/300\n",
            "8/8 [==============================] - 0s 4ms/step - loss: 0.3587 - accuracy: 0.8347\n",
            "Epoch 279/300\n",
            "8/8 [==============================] - 0s 3ms/step - loss: 0.3567 - accuracy: 0.8388\n",
            "Epoch 280/300\n",
            "8/8 [==============================] - 0s 5ms/step - loss: 0.3745 - accuracy: 0.8306\n",
            "Epoch 281/300\n",
            "8/8 [==============================] - 0s 3ms/step - loss: 0.3754 - accuracy: 0.8430\n",
            "Epoch 282/300\n",
            "8/8 [==============================] - 0s 3ms/step - loss: 0.3593 - accuracy: 0.8512\n",
            "Epoch 283/300\n",
            "8/8 [==============================] - 0s 2ms/step - loss: 0.3725 - accuracy: 0.8306\n",
            "Epoch 284/300\n",
            "8/8 [==============================] - 0s 3ms/step - loss: 0.3562 - accuracy: 0.8471\n",
            "Epoch 285/300\n",
            "8/8 [==============================] - 0s 3ms/step - loss: 0.3592 - accuracy: 0.8471\n",
            "Epoch 286/300\n",
            "8/8 [==============================] - 0s 3ms/step - loss: 0.3575 - accuracy: 0.8388\n",
            "Epoch 287/300\n",
            "8/8 [==============================] - 0s 3ms/step - loss: 0.3604 - accuracy: 0.8471\n",
            "Epoch 288/300\n",
            "8/8 [==============================] - 0s 3ms/step - loss: 0.3619 - accuracy: 0.8306\n",
            "Epoch 289/300\n",
            "8/8 [==============================] - 0s 3ms/step - loss: 0.3697 - accuracy: 0.8388\n",
            "Epoch 290/300\n",
            "8/8 [==============================] - 0s 3ms/step - loss: 0.3829 - accuracy: 0.8264\n",
            "Epoch 291/300\n",
            "8/8 [==============================] - 0s 3ms/step - loss: 0.3899 - accuracy: 0.8182\n",
            "Epoch 292/300\n",
            "8/8 [==============================] - 0s 3ms/step - loss: 0.3895 - accuracy: 0.8223\n",
            "Epoch 293/300\n",
            "8/8 [==============================] - 0s 3ms/step - loss: 0.3810 - accuracy: 0.8306\n",
            "Epoch 294/300\n",
            "8/8 [==============================] - 0s 3ms/step - loss: 0.3882 - accuracy: 0.8182\n",
            "Epoch 295/300\n",
            "8/8 [==============================] - 0s 3ms/step - loss: 0.3807 - accuracy: 0.8306\n",
            "Epoch 296/300\n",
            "8/8 [==============================] - 0s 3ms/step - loss: 0.3680 - accuracy: 0.8347\n",
            "Epoch 297/300\n",
            "8/8 [==============================] - 0s 3ms/step - loss: 0.3700 - accuracy: 0.8140\n",
            "Epoch 298/300\n",
            "8/8 [==============================] - 0s 3ms/step - loss: 0.3712 - accuracy: 0.8347\n",
            "Epoch 299/300\n",
            "8/8 [==============================] - 0s 3ms/step - loss: 0.3684 - accuracy: 0.8347\n",
            "Epoch 300/300\n",
            "8/8 [==============================] - 0s 3ms/step - loss: 0.3755 - accuracy: 0.8347\n"
          ]
        },
        {
          "output_type": "execute_result",
          "data": {
            "text/plain": [
              "<keras.src.callbacks.History at 0x7db6bcaacdc0>"
            ]
          },
          "metadata": {},
          "execution_count": 76
        }
      ]
    },
    {
      "cell_type": "code",
      "source": [
        "Y_pred_nn = model.predict(X_test)"
      ],
      "metadata": {
        "colab": {
          "base_uri": "https://localhost:8080/"
        },
        "id": "TTeJQiVO8g2R",
        "outputId": "69864806-00b9-424f-a224-5935f04bea18"
      },
      "execution_count": null,
      "outputs": [
        {
          "output_type": "stream",
          "name": "stdout",
          "text": [
            "2/2 [==============================] - 0s 5ms/step\n"
          ]
        }
      ]
    },
    {
      "cell_type": "code",
      "source": [
        "\n",
        "Y_pred_nn.shape"
      ],
      "metadata": {
        "colab": {
          "base_uri": "https://localhost:8080/"
        },
        "id": "6M7YxiP98jQj",
        "outputId": "387509fd-500c-4c34-af8d-977645cfdc2b"
      },
      "execution_count": null,
      "outputs": [
        {
          "output_type": "execute_result",
          "data": {
            "text/plain": [
              "(61, 1)"
            ]
          },
          "metadata": {},
          "execution_count": 78
        }
      ]
    },
    {
      "cell_type": "code",
      "source": [
        "rounded = [round(x[0]) for x in Y_pred_nn]\n",
        "\n",
        "Y_pred_nn = rounded"
      ],
      "metadata": {
        "id": "Ml2PPvfJ8mEb"
      },
      "execution_count": null,
      "outputs": []
    },
    {
      "cell_type": "code",
      "source": [
        "acc_score_nn = round(accuracy_score(Y_pred_nn,Y_test)*100,2)\n",
        "\n",
        "print(\"The Accuracy Score achieved using Neural Network is: \"+str(acc_score_nn)+\" %\")"
      ],
      "metadata": {
        "colab": {
          "base_uri": "https://localhost:8080/"
        },
        "id": "wwKiWORk8pFs",
        "outputId": "7df768ab-e44e-4bf9-be31-a12cf6c63f80"
      },
      "execution_count": null,
      "outputs": [
        {
          "output_type": "stream",
          "name": "stdout",
          "text": [
            "The Accuracy Score achieved using Neural Network is: 88.52 %\n"
          ]
        }
      ]
    },
    {
      "cell_type": "code",
      "source": [
        "pre_score_nn = round(precision_score(Y_pred_nn,Y_test)*100,2)\n",
        "\n",
        "print(\"The Precision Score achieved using Neural Network is: \"+str(pre_score_nn)+\" %\")"
      ],
      "metadata": {
        "colab": {
          "base_uri": "https://localhost:8080/"
        },
        "id": "q__fjdZx8st1",
        "outputId": "9e1ac410-5334-4c96-cb73-9a8df4ac88fc"
      },
      "execution_count": null,
      "outputs": [
        {
          "output_type": "stream",
          "name": "stdout",
          "text": [
            "The Precision Score achieved using Neural Network is: 85.29 %\n"
          ]
        }
      ]
    },
    {
      "cell_type": "code",
      "source": [
        "rec_score_nn = round(recall_score(Y_pred_nn,Y_test)*100,2)\n",
        "\n",
        "print(\"The Recall Score achieved using Neural Network is: \"+str(rec_score_nn)+\" %\")"
      ],
      "metadata": {
        "colab": {
          "base_uri": "https://localhost:8080/"
        },
        "id": "1ujymGkw8wyj",
        "outputId": "b33ecbb9-98a0-4ade-f8aa-0794d3d18871"
      },
      "execution_count": null,
      "outputs": [
        {
          "output_type": "stream",
          "name": "stdout",
          "text": [
            "The Recall Score achieved using Neural Network is: 93.55 %\n"
          ]
        }
      ]
    },
    {
      "cell_type": "code",
      "source": [
        "acc_scores = [acc_score_lr,acc_score_nb,acc_score_svm,acc_score_knn,acc_score_dt,acc_score_rf,acc_score_xgb,acc_score_nn]\n",
        "algorithms = [\"Logistic Regression\",\"Naive Bayes\",\"SVM\",\"K-Nearest Neighbors\",\"Decision Tree\",\"Random Forest\",\"XGBoost\",\"Neural Network\"]\n",
        "\n",
        "for i in range(len(algorithms)):\n",
        "    print(\"The accuracy score achieved using \"+algorithms[i]+\" is: \"+str(acc_scores[i])+\" %\")"
      ],
      "metadata": {
        "colab": {
          "base_uri": "https://localhost:8080/"
        },
        "id": "w-IKKDgl9PaP",
        "outputId": "0015a4d6-c837-4c3a-b161-7e8028cc349b"
      },
      "execution_count": null,
      "outputs": [
        {
          "output_type": "stream",
          "name": "stdout",
          "text": [
            "The accuracy score achieved using Logistic Regression is: 85.25 %\n",
            "The accuracy score achieved using Naive Bayes is: 85.25 %\n",
            "The accuracy score achieved using SVM is: 81.97 %\n",
            "The accuracy score achieved using K-Nearest Neighbors is: 67.21 %\n",
            "The accuracy score achieved using Decision Tree is: 81.97 %\n",
            "The accuracy score achieved using Random Forest is: 90.16 %\n",
            "The accuracy score achieved using XGBoost is: 83.61 %\n",
            "The accuracy score achieved using Neural Network is: 88.52 %\n"
          ]
        }
      ]
    }
  ]
}